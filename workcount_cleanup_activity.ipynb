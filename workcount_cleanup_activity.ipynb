{
 "cells": [
  {
   "cell_type": "code",
   "execution_count": 0,
   "metadata": {
    "application/vnd.databricks.v1+cell": {
     "cellMetadata": {
      "byteLimit": 2048000,
      "rowLimit": 10000
     },
     "inputWidgets": {},
     "nuid": "5a5349a7-7285-42c8-b02b-931a8411108f",
     "showTitle": false,
     "tableResultSettingsMap": {},
     "title": ""
    }
   },
   "outputs": [
    {
     "output_type": "stream",
     "name": "stdout",
     "output_type": "stream",
     "text": [
      "CleanUp Activity is started\n"
     ]
    },
    {
     "output_type": "display_data",
     "data": {
      "text/plain": [
       "Do you want to truncate the delta table (y/n): y"
      ]
     },
     "metadata": {},
     "output_type": "display_data"
    },
    {
     "output_type": "stream",
     "name": "stdout",
     "output_type": "stream",
     "text": [
      "Delta table truncated successfully\nCleanUp Activity is finished\n\nList of files available in the input folder:\n  1 : file_list.txt\n['file_list.txt']\n"
     ]
    },
    {
     "output_type": "display_data",
     "data": {
      "text/plain": [
       "select the file number from the above list:  1"
      ]
     },
     "metadata": {},
     "output_type": "display_data"
    },
    {
     "output_type": "stream",
     "name": "stdout",
     "output_type": "stream",
     "text": [
      "Copying files for processing\nCopying files is done\n\n"
     ]
    }
   ],
   "source": [
    "class cleanup_activity:\n",
    "\n",
    "    def __init__(self):\n",
    "        self.base_dir = '/FileStore/text'\n",
    "    \n",
    "    def remove_and_recreating_working_dir(self):\n",
    "        dbutils.fs.rm(f'{self.base_dir}/working', recurse=True)\n",
    "        dbutils.fs.mkdirs(f'{self.base_dir}/working')\n",
    "\n",
    "    def dropping_delta_table(self):\n",
    "        spark.sql('drop table if exists wordcount_table')\n",
    "    \n",
    "    def copying_files_for_processing(self, file_name):\n",
    "        dbutils.fs.cp(f'{self.base_dir}/input/{file_name}',f'{self.base_dir}/working/')\n",
    "    \n",
    "    def main(self):\n",
    "        print('CleanUp Activity is started')\n",
    "        self.remove_and_recreating_working_dir()\n",
    "        self.dropping_delta_table()\n",
    "        if 'y'==input('Do you want to truncate the delta table (y/n):' ):\n",
    "            self.dropping_delta_table()\n",
    "            print('Delta table truncated successfully')\n",
    "        print('CleanUp Activity is finished\\n')\n",
    "        print('List of files available in the input folder:')\n",
    "        ls = dbutils.fs.ls(f'{self.base_dir}/input')\n",
    "        file_list=[]\n",
    "        for i,j in enumerate(ls):\n",
    "            print(' ',i+1,':',j.name)\n",
    "            file_list.append(j.name)\n",
    "        print(file_list)\n",
    "        self.file_name = file_list[int(input('select the file number from the above list: '))-1]\n",
    "        print('Copying files for processing')\n",
    "        self.copying_files_for_processing(self.file_name)\n",
    "        print('Copying files is done\\n')\n",
    "    \n",
    "cls = cleanup_activity()\n",
    "cls.main()\n",
    "    \n"
   ]
  }
 ],
 "metadata": {
  "application/vnd.databricks.v1+notebook": {
   "dashboards": [],
   "environmentMetadata": null,
   "language": "python",
   "notebookMetadata": {
    "pythonIndentUnit": 4
   },
   "notebookName": "workcount_cleanup_activity",
   "widgets": {}
  }
 },
 "nbformat": 4,
 "nbformat_minor": 0
}
