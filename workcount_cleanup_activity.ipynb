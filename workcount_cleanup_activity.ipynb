{
 "cells": [
  {
   "cell_type": "code",
   "execution_count": 0,
   "metadata": {
    "application/vnd.databricks.v1+cell": {
     "cellMetadata": {
      "byteLimit": 2048000,
      "rowLimit": 10000
     },
     "inputWidgets": {},
     "nuid": "5a5349a7-7285-42c8-b02b-931a8411108f",
     "showTitle": false,
     "tableResultSettingsMap": {},
     "title": ""
    }
   },
   "outputs": [],
   "source": [
    "class cleanup_activity:\n",
    "\n",
    "    def __init__(self):\n",
    "        self.base_dir = '/FileStore/text'\n",
    "    \n",
    "    def delete_and_recreating_dir(self):\n",
    "        print('CleanUp working dir is started...', end='')\n",
    "        dbutils.fs.rm('/user/hive/warehouse/stream_wordcount_table', recurse=True)\n",
    "        dbutils.fs.rm(f'{self.base_dir}/checkpoint', recurse=True)\n",
    "        dbutils.fs.rm(f'{self.base_dir}/working', recurse=True)\n",
    "        dbutils.fs.mkdirs(f'{self.base_dir}/working')\n",
    "        print('Done.')\n",
    "\n",
    "    def dropping_delta_table(self):\n",
    "        if 'y'==input('Do you want to drop the delta table (y/n):' ):\n",
    "            spark.sql('drop table if exists batch_wordcount_table')\n",
    "            print('Delta table drop successfully')\n",
    "    \n",
    "    def data_injection(self, file_name=''):\n",
    "        dbutils.fs.cp(f'{self.base_dir}/landing/{file_name}',f'{self.base_dir}/working/', recurse=True)\n",
    "    \n"
   ]
  }
 ],
 "metadata": {
  "application/vnd.databricks.v1+notebook": {
   "dashboards": [],
   "environmentMetadata": null,
   "language": "python",
   "notebookMetadata": {
    "pythonIndentUnit": 4
   },
   "notebookName": "Workcount_Cleanup_Activity",
   "widgets": {}
  }
 },
 "nbformat": 4,
 "nbformat_minor": 0
}
